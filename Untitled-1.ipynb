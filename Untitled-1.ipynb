{
 "cells": [
  {
   "cell_type": "code",
   "execution_count": 1,
   "metadata": {},
   "outputs": [
    {
     "name": "stdout",
     "output_type": "stream",
     "text": [
      "\u001b[0;31mDocstring:\u001b[0m\n",
      "Get, set, or list environment variables.\n",
      "\n",
      "Usage:\n",
      "\n",
      "  %env: lists all environment variables/values\n",
      "  %env var: get value for var\n",
      "  %env var val: set value for var\n",
      "  %env var=val: set value for var\n",
      "  %env var=$val: set value for var, using python expansion if possible\n",
      "\u001b[0;31mFile:\u001b[0m      ~/data/local/anaconda/envs/cuda100/lib/python3.7/site-packages/IPython/core/magics/osm.py\n"
     ]
    }
   ],
   "source": [
    "%env?"
   ]
  },
  {
   "cell_type": "code",
   "execution_count": 5,
   "metadata": {},
   "outputs": [
    {
     "name": "stdout",
     "output_type": "stream",
     "text": [
      "env: http_proxy=http://127.0.0.1:23330\n"
     ]
    },
    {
     "data": {
      "text/plain": [
       "'http://127.0.0.1:23330'"
      ]
     },
     "execution_count": 5,
     "metadata": {},
     "output_type": "execute_result"
    }
   ],
   "source": [
    "%env http_proxy = http://127.0.0.1:23330\n",
    "%env http_proxy"
   ]
  },
  {
   "cell_type": "code",
   "execution_count": 18,
   "metadata": {},
   "outputs": [
    {
     "name": "stdout",
     "output_type": "stream",
     "text": [
      "161.117.1.27\n",
      "161.117.1.27\n",
      "161.117.1.27\n"
     ]
    }
   ],
   "source": [
    "! curl ipinfo.io/ip\n",
    "! echo \"\"\n",
    "! curl ifconfig.me\n",
    "! echo \"\"\n",
    "! curl ipip.ooo"
   ]
  },
  {
   "cell_type": "code",
   "execution_count": null,
   "metadata": {},
   "outputs": [],
   "source": []
  }
 ],
 "metadata": {
  "interpreter": {
   "hash": "6bc6dcd9cb84f4e1c2adf19199107154e6105fd3a19a620d5de7abde7803c2b6"
  },
  "kernelspec": {
   "display_name": "Python 3.7.12 64-bit ('cuda100': conda)",
   "language": "python",
   "name": "python3"
  },
  "language_info": {
   "codemirror_mode": {
    "name": "ipython",
    "version": 3
   },
   "file_extension": ".py",
   "mimetype": "text/x-python",
   "name": "python",
   "nbconvert_exporter": "python",
   "pygments_lexer": "ipython3",
   "version": "3.7.12"
  },
  "orig_nbformat": 4
 },
 "nbformat": 4,
 "nbformat_minor": 2
}
