{
 "cells": [
  {
   "cell_type": "code",
   "execution_count": 1,
   "metadata": {},
   "outputs": [
    {
     "name": "stdout",
     "output_type": "stream",
     "text": [
      "# conda environments:\n",
      "#\n",
      "base                     /home/yhwang/local/anaconda3\n",
      "C                        /home/yhwang/local/anaconda3/envs/C\n",
      "backup3.7                /home/yhwang/local/anaconda3/envs/backup3.7\n",
      "corrfunc                 /home/yhwang/local/anaconda3/envs/corrfunc\n",
      "deepsphere               /home/yhwang/local/anaconda3/envs/deepsphere\n",
      "hmf                      /home/yhwang/local/anaconda3/envs/hmf\n",
      "lab                   *  /home/yhwang/local/anaconda3/envs/lab\n",
      "lensing                  /home/yhwang/local/anaconda3/envs/lensing\n",
      "pip                      /home/yhwang/local/anaconda3/envs/pip\n",
      "py2.7                    /home/yhwang/local/anaconda3/envs/py2.7\n",
      "py3.7                    /home/yhwang/local/anaconda3/envs/py3.7\n",
      "pytorch                  /home/yhwang/local/anaconda3/envs/pytorch\n",
      "pytorch-gpu              /home/yhwang/local/anaconda3/envs/pytorch-gpu\n",
      "sos                      /home/yhwang/local/anaconda3/envs/sos\n",
      "xeus-python              /home/yhwang/local/anaconda3/envs/xeus-python\n",
      "\n",
      "\n",
      "Note: you may need to restart the kernel to use updated packages.\n"
     ]
    }
   ],
   "source": [
    "%conda env list"
   ]
  },
  {
   "cell_type": "code",
   "execution_count": 5,
   "metadata": {},
   "outputs": [
    {
     "data": {
      "text/plain": [
       "'http://192.168.10.101:23330'"
      ]
     },
     "execution_count": 5,
     "metadata": {},
     "output_type": "execute_result"
    }
   ],
   "source": [
    "# %env http_proxy = http://192.168.10.101:23330\n",
    "%env http_proxy"
   ]
  },
  {
   "cell_type": "code",
   "execution_count": 6,
   "metadata": {},
   "outputs": [
    {
     "name": "stdout",
     "output_type": "stream",
     "text": [
      "161.117.1.27\n",
      "161.117.1.27\n",
      "2a09:bac0:411::81e:ea14\n"
     ]
    }
   ],
   "source": [
    "! curl ipinfo.io/ip\n",
    "! echo \"\"\n",
    "! curl ifconfig.me\n",
    "! echo \"\"\n",
    "! curl ipip.ooo"
   ]
  },
  {
   "cell_type": "code",
   "execution_count": null,
   "metadata": {},
   "outputs": [],
   "source": []
  }
 ],
 "metadata": {
  "interpreter": {
   "hash": "31a7114350aa53c3af92fe85a811f31d1bad439dfcbbf323c55b16d2d325bf60"
  },
  "kernelspec": {
   "display_name": "Python 3",
   "language": "python",
   "name": "python3"
  },
  "language_info": {
   "codemirror_mode": {
    "name": "ipython",
    "version": 3
   },
   "file_extension": ".py",
   "mimetype": "text/x-python",
   "name": "python",
   "nbconvert_exporter": "python",
   "pygments_lexer": "ipython3",
   "version": "3.8.5"
  }
 },
 "nbformat": 4,
 "nbformat_minor": 4
}
